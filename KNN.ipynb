{
 "cells": [
  {
   "cell_type": "code",
   "execution_count": 9,
   "metadata": {
    "colab": {},
    "colab_type": "code",
    "id": "V2hIJoMRLe3x"
   },
   "outputs": [],
   "source": [
    "\"\"\"\n",
    "КНН с использованием евклидова и косинусного расстояния\n",
    "\"\"\"\n",
    "\n",
    "import csv\n",
    "import random\n",
    "import math\n",
    "import operator \n",
    "from scipy.spatial.distance import cosine "
   ]
  },
  {
   "cell_type": "code",
   "execution_count": 10,
   "metadata": {
    "colab": {},
    "colab_type": "code",
    "id": "2OMHJ9U1SPpo"
   },
   "outputs": [],
   "source": [
    "def load_dataset(filename, split):\n",
    "    \"\"\"\n",
    "     имя файла: имя файла, который нужно открыть\n",
    "     разделение параметров: отношение данных к обучающему набору\n",
    "     возврат: учебные и тестовые списки\n",
    "    \"\"\"\n",
    "    \n",
    "   \n",
    "    training_set = []\n",
    "    test_set = []\n",
    "    with open(filename, 'r') as csvfile:\n",
    "        lines = csv.reader(csvfile)\n",
    "        dataset = list(lines)\n",
    "        for x in range(len(dataset) - 1):\n",
    "            for y in range(4):\n",
    "                dataset[x][y] = float(dataset[x][y])\n",
    "            if random.random() < split:\n",
    "                training_set.append(dataset[x])\n",
    "            else:\n",
    "                test_set.append(dataset[x])\n",
    "\n",
    "    return training_set, test_set"
   ]
  },
  {
   "cell_type": "code",
   "execution_count": 11,
   "metadata": {
    "colab": {},
    "colab_type": "code",
    "id": "SWb0MtGHSVid"
   },
   "outputs": [],
   "source": [
    "def euclidean_distance(instance1, instance2, length):\n",
    "    \"\"\"\n",
    "Рассчитывает евклидово расстояние между двумя точками\n",
    "     параметр instance1: точка данных 1\n",
    "     параметр instance2: точка данных 2\n",
    "     длина параметра: сколько измерений нужно оценить\n",
    "     возврат: расстояние\n",
    "    \"\"\"\n",
    "    distance = 0\n",
    "    for x in range(length):\n",
    "        distance += pow((instance1[x] - instance2[x]), 2)\n",
    "    return math.sqrt(distance)"
   ]
  },
  {
   "cell_type": "code",
   "execution_count": 12,
   "metadata": {
    "colab": {},
    "colab_type": "code",
    "id": "fFgQEygWSVlP"
   },
   "outputs": [],
   "source": [
    "def cosine_distance(instance1, instance2):\n",
    "    \" Предполагем, что последний элемент каждого экземпляра является меткой или классом \"\n",
    "    p1 = instance1[:-1]\n",
    "    p2 = instance2[:-1]\n",
    "    return cosine(p1, p2)"
   ]
  },
  {
   "cell_type": "code",
   "execution_count": 13,
   "metadata": {
    "colab": {},
    "colab_type": "code",
    "id": "DTYUNoPeSVoa"
   },
   "outputs": [],
   "source": [
    "def get_neighbors(training_set, test_instance, k, cosine_d=False):\n",
    "    \"\"\"\n",
    "\n",
    "     Даем контрольному экземпляру вернуть k в ближайший набор\n",
    "\n",
    "    param training_set list of training data points\n",
    "    param test_instance single point in the test set\n",
    "    param k number of neighbors to use\n",
    "    return list of k closest data points\n",
    "\n",
    "    \"\"\"\n",
    "    distances = []\n",
    "    length = len(test_instance) - 1\n",
    "    for x in range(len(training_set)):\n",
    "        if cosine_d:\n",
    "            dist = cosine_distance(test_instance, training_set[x])\n",
    "            distances.append((training_set[x], dist))\n",
    "        else:\n",
    "            dist = euclidean_distance(test_instance, training_set[x], length)\n",
    "            distances.append((training_set[x], dist))\n",
    "    distances.sort(key=operator.itemgetter(1))\n",
    "    neighbors = []\n",
    "    for x in range(k):\n",
    "        neighbors.append(distances[x][0])\n",
    "    return neighbors\n"
   ]
  },
  {
   "cell_type": "code",
   "execution_count": 14,
   "metadata": {
    "colab": {},
    "colab_type": "code",
    "id": "C9bldOfqSVrF"
   },
   "outputs": [],
   "source": [
    "def get_response(neighbors):\n",
    "    \"\"\"\n",
    "    Последним соседним атрибутом является Ex: [1, 1, 1, a]: соседние параметры: список ближайших точек к точке\n",
    "    \"\"\"\n",
    "    class_votes = {}\n",
    "    for x in range(len(neighbors)):\n",
    "        response = neighbors[x][-1]\n",
    "        if response in class_votes:\n",
    "            class_votes[response] += 1\n",
    "        else:\n",
    "            class_votes[response] = 1\n",
    "    sorted_votes = sorted(class_votes.items(), key=operator.itemgetter(1), reverse=True)\n",
    "    return sorted_votes[0][0]"
   ]
  },
  {
   "cell_type": "code",
   "execution_count": 15,
   "metadata": {
    "colab": {},
    "colab_type": "code",
    "id": "O9R6WFHBSl35"
   },
   "outputs": [],
   "source": [
    "def get_accuracy(test_set, predictions):\n",
    "    \"\"\"\n",
    "\n",
    "    параметр test_set: набор данных для тестирования\n",
    "    предсказания параметров: метки, основанные на kNN\n",
    "    возврат: правильный процент\n",
    "    \"\"\"\n",
    "    correct = 0\n",
    "    for x in range(len(test_set)):\n",
    "        if test_set[x][-1] == predictions[x]:\n",
    "            correct += 1\n",
    "    return (correct / float(len(test_set))) * 100.0\n"
   ]
  },
  {
   "cell_type": "code",
   "execution_count": 17,
   "metadata": {
    "colab": {
     "base_uri": "https://localhost:8080/",
     "height": 376
    },
    "colab_type": "code",
    "id": "doasDH41SoM_",
    "outputId": "7bcd4639-887d-4415-8c92-c1c6dce9f8e5"
   },
   "outputs": [
    {
     "name": "stdout",
     "output_type": "stream",
     "text": [
      "Train set: 108\n",
      "Test set: 42\n",
      "> predicted='Iris-setosa', actual='Iris-setosa'\n",
      "> predicted='Iris-setosa', actual='Iris-setosa'\n",
      "> predicted='Iris-setosa', actual='Iris-setosa'\n",
      "> predicted='Iris-setosa', actual='Iris-setosa'\n",
      "> predicted='Iris-setosa', actual='Iris-setosa'\n",
      "> predicted='Iris-setosa', actual='Iris-setosa'\n",
      "> predicted='Iris-setosa', actual='Iris-setosa'\n",
      "> predicted='Iris-setosa', actual='Iris-setosa'\n",
      "> predicted='Iris-setosa', actual='Iris-setosa'\n",
      "> predicted='Iris-setosa', actual='Iris-setosa'\n",
      "> predicted='Iris-setosa', actual='Iris-setosa'\n",
      "> predicted='Iris-setosa', actual='Iris-setosa'\n",
      "> predicted='Iris-versicolor', actual='Iris-versicolor'\n",
      "> predicted='Iris-versicolor', actual='Iris-versicolor'\n",
      "> predicted='Iris-versicolor', actual='Iris-versicolor'\n",
      "> predicted='Iris-versicolor', actual='Iris-versicolor'\n",
      "> predicted='Iris-versicolor', actual='Iris-versicolor'\n",
      "> predicted='Iris-versicolor', actual='Iris-versicolor'\n",
      "> predicted='Iris-virginica', actual='Iris-versicolor'\n",
      "> predicted='Iris-versicolor', actual='Iris-versicolor'\n",
      "> predicted='Iris-versicolor', actual='Iris-versicolor'\n",
      "> predicted='Iris-versicolor', actual='Iris-versicolor'\n",
      "> predicted='Iris-versicolor', actual='Iris-versicolor'\n",
      "> predicted='Iris-versicolor', actual='Iris-versicolor'\n",
      "> predicted='Iris-versicolor', actual='Iris-versicolor'\n",
      "> predicted='Iris-versicolor', actual='Iris-versicolor'\n",
      "> predicted='Iris-versicolor', actual='Iris-versicolor'\n",
      "> predicted='Iris-virginica', actual='Iris-virginica'\n",
      "> predicted='Iris-virginica', actual='Iris-virginica'\n",
      "> predicted='Iris-versicolor', actual='Iris-virginica'\n",
      "> predicted='Iris-virginica', actual='Iris-virginica'\n",
      "> predicted='Iris-virginica', actual='Iris-virginica'\n",
      "> predicted='Iris-virginica', actual='Iris-virginica'\n",
      "> predicted='Iris-virginica', actual='Iris-virginica'\n",
      "> predicted='Iris-virginica', actual='Iris-virginica'\n",
      "> predicted='Iris-virginica', actual='Iris-virginica'\n",
      "> predicted='Iris-virginica', actual='Iris-virginica'\n",
      "> predicted='Iris-virginica', actual='Iris-virginica'\n",
      "> predicted='Iris-virginica', actual='Iris-virginica'\n",
      "> predicted='Iris-virginica', actual='Iris-virginica'\n",
      "> predicted='Iris-virginica', actual='Iris-virginica'\n",
      "> predicted='Iris-virginica', actual='Iris-virginica'\n",
      "Accuracy: 95.23809523809523%\n",
      "Train set: 99\n",
      "Test set: 51\n",
      "> predicted='Iris-setosa', actual='Iris-setosa'\n",
      "> predicted='Iris-setosa', actual='Iris-setosa'\n",
      "> predicted='Iris-setosa', actual='Iris-setosa'\n",
      "> predicted='Iris-setosa', actual='Iris-setosa'\n",
      "> predicted='Iris-setosa', actual='Iris-setosa'\n",
      "> predicted='Iris-setosa', actual='Iris-setosa'\n",
      "> predicted='Iris-setosa', actual='Iris-setosa'\n",
      "> predicted='Iris-setosa', actual='Iris-setosa'\n",
      "> predicted='Iris-setosa', actual='Iris-setosa'\n",
      "> predicted='Iris-setosa', actual='Iris-setosa'\n",
      "> predicted='Iris-setosa', actual='Iris-setosa'\n",
      "> predicted='Iris-setosa', actual='Iris-setosa'\n",
      "> predicted='Iris-setosa', actual='Iris-setosa'\n",
      "> predicted='Iris-setosa', actual='Iris-setosa'\n",
      "> predicted='Iris-setosa', actual='Iris-setosa'\n",
      "> predicted='Iris-setosa', actual='Iris-setosa'\n",
      "> predicted='Iris-setosa', actual='Iris-setosa'\n",
      "> predicted='Iris-versicolor', actual='Iris-versicolor'\n",
      "> predicted='Iris-versicolor', actual='Iris-versicolor'\n",
      "> predicted='Iris-versicolor', actual='Iris-versicolor'\n",
      "> predicted='Iris-virginica', actual='Iris-versicolor'\n",
      "> predicted='Iris-versicolor', actual='Iris-versicolor'\n",
      "> predicted='Iris-virginica', actual='Iris-versicolor'\n",
      "> predicted='Iris-versicolor', actual='Iris-versicolor'\n",
      "> predicted='Iris-versicolor', actual='Iris-versicolor'\n",
      "> predicted='Iris-versicolor', actual='Iris-versicolor'\n",
      "> predicted='Iris-versicolor', actual='Iris-versicolor'\n",
      "> predicted='Iris-versicolor', actual='Iris-versicolor'\n",
      "> predicted='Iris-versicolor', actual='Iris-versicolor'\n",
      "> predicted='Iris-versicolor', actual='Iris-versicolor'\n",
      "> predicted='Iris-versicolor', actual='Iris-versicolor'\n",
      "> predicted='Iris-versicolor', actual='Iris-versicolor'\n",
      "> predicted='Iris-virginica', actual='Iris-virginica'\n",
      "> predicted='Iris-virginica', actual='Iris-virginica'\n",
      "> predicted='Iris-versicolor', actual='Iris-virginica'\n",
      "> predicted='Iris-virginica', actual='Iris-virginica'\n",
      "> predicted='Iris-virginica', actual='Iris-virginica'\n",
      "> predicted='Iris-virginica', actual='Iris-virginica'\n",
      "> predicted='Iris-virginica', actual='Iris-virginica'\n",
      "> predicted='Iris-virginica', actual='Iris-virginica'\n",
      "> predicted='Iris-virginica', actual='Iris-virginica'\n",
      "> predicted='Iris-virginica', actual='Iris-virginica'\n",
      "> predicted='Iris-virginica', actual='Iris-virginica'\n",
      "> predicted='Iris-virginica', actual='Iris-virginica'\n",
      "> predicted='Iris-virginica', actual='Iris-virginica'\n",
      "> predicted='Iris-virginica', actual='Iris-virginica'\n",
      "> predicted='Iris-virginica', actual='Iris-virginica'\n",
      "> predicted='Iris-versicolor', actual='Iris-virginica'\n",
      "> predicted='Iris-virginica', actual='Iris-virginica'\n",
      "> predicted='Iris-virginica', actual='Iris-virginica'\n",
      "> predicted='Iris-virginica', actual='Iris-virginica'\n",
      "Accuracy: 92.15686274509804%\n"
     ]
    }
   ],
   "source": [
    "def main(cosine_d=False):\n",
    "    # prepare data\n",
    "    split = 0.67\n",
    "    training_set, test_set = load_dataset('iris.data', split)\n",
    "    print('Train set: ' + repr(len(training_set)))\n",
    "    print('Test set: ' + repr(len(test_set)))\n",
    "    # generate predictions\n",
    "    predictions = []\n",
    "    k = 3\n",
    "\n",
    "    if cosine_d:\n",
    "        for x in range(len(test_set)):\n",
    "            neighbors = get_neighbors(training_set, test_set[x], k)\n",
    "            result = get_response(neighbors)\n",
    "            predictions.append(result)\n",
    "            print('> predicted=' + repr(result) + ', actual=' + repr(test_set[x][-1]))\n",
    "        accuracy = get_accuracy(test_set, predictions)\n",
    "        print('Accuracy: ' + repr(accuracy) + '%')\n",
    "\n",
    "    else:\n",
    "        for x in range(len(test_set)):\n",
    "            neighbors = get_neighbors(training_set, test_set[x], k)\n",
    "            result = get_response(neighbors)\n",
    "            predictions.append(result)\n",
    "            print('> predicted=' + repr(result) + ', actual=' + repr(test_set[x][-1]))\n",
    "        accuracy = get_accuracy(test_set, predictions)\n",
    "        print('Accuracy: ' + repr(accuracy) + '%')\n",
    "\n",
    "\n",
    "main()\n",
    "main(cosine_d=True)\n"
   ]
  },
  {
   "cell_type": "code",
   "execution_count": null,
   "metadata": {},
   "outputs": [],
   "source": []
  },
  {
   "cell_type": "code",
   "execution_count": null,
   "metadata": {},
   "outputs": [],
   "source": []
  }
 ],
 "metadata": {
  "colab": {
   "collapsed_sections": [],
   "name": "KNN.ipynb",
   "provenance": []
  },
  "kernelspec": {
   "display_name": "Python 3",
   "language": "python",
   "name": "python3"
  },
  "language_info": {
   "codemirror_mode": {
    "name": "ipython",
    "version": 3
   },
   "file_extension": ".py",
   "mimetype": "text/x-python",
   "name": "python",
   "nbconvert_exporter": "python",
   "pygments_lexer": "ipython3",
   "version": "3.7.3"
  }
 },
 "nbformat": 4,
 "nbformat_minor": 4
}
